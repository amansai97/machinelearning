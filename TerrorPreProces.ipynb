{
 "cells": [
  {
   "cell_type": "code",
   "execution_count": 1,
   "metadata": {},
   "outputs": [
    {
     "name": "stdout",
     "output_type": "stream",
     "text": [
      "Requirement already satisfied: geopy in c:\\users\\aman saini\\anaconda3\\lib\\site-packages (2.1.0)\n",
      "Requirement already satisfied: geographiclib<2,>=1.49 in c:\\users\\aman saini\\anaconda3\\lib\\site-packages (from geopy) (1.50)\n"
     ]
    }
   ],
   "source": [
    "!pip install geopy"
   ]
  },
  {
   "cell_type": "code",
   "execution_count": 2,
   "metadata": {
    "id": "IkvM3__fObGy"
   },
   "outputs": [
    {
     "name": "stderr",
     "output_type": "stream",
     "text": [
      "C:\\Users\\Aman saini\\Anaconda3\\lib\\site-packages\\statsmodels\\tools\\_testing.py:19: FutureWarning: pandas.util.testing is deprecated. Use the functions in the public API at pandas.testing instead.\n",
      "  import pandas.util.testing as tm\n"
     ]
    }
   ],
   "source": [
    "import pandas as pd\n",
    "import numpy as np\n",
    "import matplotlib.pyplot as plt\n",
    "import seaborn as sns\n",
    "pd.set_option('display.max_columns',None)\n",
    "pd.set_option('display.max_rows',None)\n",
    "from geopy.exc import GeocoderTimedOut\n",
    "from geopy.geocoders import  Nominatim"
   ]
  },
  {
   "cell_type": "code",
   "execution_count": 3,
   "metadata": {
    "colab": {
     "base_uri": "https://localhost:8080/"
    },
    "id": "xmvLmQZtPGJL",
    "outputId": "f5a010c0-08c4-449f-9de5-016cd81055aa"
   },
   "outputs": [
    {
     "name": "stderr",
     "output_type": "stream",
     "text": [
      "C:\\Users\\Aman saini\\Anaconda3\\lib\\site-packages\\IPython\\core\\interactiveshell.py:3058: DtypeWarning: Columns (4,6,26,27,46,47,48,59,61,69,70,87,88,94) have mixed types.Specify dtype option on import or set low_memory=False.\n",
      "  interactivity=interactivity, compiler=compiler, result=result)\n"
     ]
    }
   ],
   "source": [
    "df=pd.read_csv('F:/r file/project/GlobalTerrosim/globalterrorism.csv',encoding='ISO-8859-1',sep=',')"
   ]
  },
  {
   "cell_type": "code",
   "execution_count": 4,
   "metadata": {
    "id": "hiLDxfvwPL2v"
   },
   "outputs": [],
   "source": [
    "NameConv={\n",
    "        'iyear':'Year',\n",
    "        'imonth':'Month',\n",
    "        'iday': 'Day',\n",
    "        'country_txt':'Country',\n",
    "        'region_txt':'Region',\n",
    "        'alternative_txt':'Alternative',\n",
    "        'attacktype1_txt':'AttackType1',\n",
    "        'attacktype2_txt':'AttackType2',\n",
    "        'attacktype3_txt':'AttackType3',\n",
    "        'targtype1_txt':'TargetType1',\n",
    "        'targsubtype1_txt':'TargetSubType1',\n",
    "        'natlty1_txt':'Natlty1',\n",
    "        'targtype2_txt':'TargetType2',\n",
    "        'targsubtype2_txt':'TargetSubType2',\n",
    "        'natlty2_txt':'Natlty2',\n",
    "        'targtype3_txt':'TargetType3',\n",
    "        'natlty3_txt':'Natlty3',\n",
    "        'claimmode_txt':'ClaimMode1',\n",
    "        'claimmode2_txt':'ClaimMode2',\n",
    "        'claimmode3_txt':'ClaimMode3',\n",
    "        'weaptype1_txt':'WeapType1',\n",
    "        'weapsubtype1_txt':'WeapSubType1',\n",
    "        'weaptype2_txt':'WeapType2',\n",
    "        'weapsubtype2_txt':'WeapSubType2',\n",
    "        'weaptype3_txt':'WeapType3',\n",
    "        'weapsubtype3_txt':'WeapSubType3',\n",
    "        'weaptype4_txt':'WeapType4',\n",
    "        'weapsubtype4_txt':'WeapSubType4',\n",
    "        'propextent_txt':'PropeRXtent',   \n",
    "        'targsubtype3_txt':'TargetSubType3'       \n",
    "}\n",
    "\n",
    "df.rename(columns=NameConv,inplace=True)"
   ]
  },
  {
   "cell_type": "code",
   "execution_count": 5,
   "metadata": {
    "colab": {
     "base_uri": "https://localhost:8080/"
    },
    "id": "jXumuHxUBE3l",
    "outputId": "63792244-3f44-4483-ff83-0bbcc01f90eb"
   },
   "outputs": [
    {
     "data": {
      "text/plain": [
       "(181691, 107)"
      ]
     },
     "execution_count": 5,
     "metadata": {},
     "output_type": "execute_result"
    }
   ],
   "source": [
    "# Lets check the shape of dataset\n",
    "## Pre shape before droppping duplicates\n",
    "df.shape"
   ]
  },
  {
   "cell_type": "code",
   "execution_count": 6,
   "metadata": {
    "colab": {
     "base_uri": "https://localhost:8080/"
    },
    "id": "R2Z1OIgJPQdF",
    "outputId": "01ffbd53-92b8-4938-d3a6-aa5552f7028a"
   },
   "outputs": [
    {
     "data": {
      "text/plain": [
       "4550"
      ]
     },
     "execution_count": 6,
     "metadata": {},
     "output_type": "execute_result"
    }
   ],
   "source": [
    "## Lets see is there any duplicate present in data or not\n",
    "\n",
    "df.duplicated().sum()"
   ]
  },
  {
   "cell_type": "code",
   "execution_count": 7,
   "metadata": {
    "id": "ASLshKtL3KXT"
   },
   "outputs": [],
   "source": [
    "df.drop_duplicates(keep='first',inplace=True)"
   ]
  },
  {
   "cell_type": "code",
   "execution_count": 8,
   "metadata": {
    "colab": {
     "base_uri": "https://localhost:8080/"
    },
    "id": "IG8qeyfUBq1G",
    "outputId": "664cfb6c-78cd-4933-cc54-75e3738c143c"
   },
   "outputs": [
    {
     "data": {
      "text/plain": [
       "(177141, 107)"
      ]
     },
     "execution_count": 8,
     "metadata": {},
     "output_type": "execute_result"
    }
   ],
   "source": [
    "# Post shape after dropping duplicates\n",
    "df.shape"
   ]
  },
  {
   "cell_type": "code",
   "execution_count": 9,
   "metadata": {
    "id": "tOkeQ42oZXSh"
   },
   "outputs": [],
   "source": [
    "## Seems like 'gsubname','gsubname2' and 'gsubname3' are all related to Sub group name of attacker which needs to be combine into one columns.\n",
    "## Same for 'gname', 'gname2' and 'gname3' are all related to Group Name of attacker which needs to be combine into one columns.\n",
    "## Same for 'WeaponType1' , 'WeaponType2','WeaponType3' and 'WeaponType4' all are related to WeaponType which needs to combine into one columns.\n",
    "## Same for 'WeaponSubType1' , 'WeaponSubType2','WeaponSubType3' and 'WeaponSubType4' all are related to WeaponType which needs to combine into one columns.\n",
    "## Same for 'AttackType1','AttackType2' and 'AttackType3' into one column called 'AttackType'.\n",
    "## Same for 'Target1','Target2' and 'Target3' into one column called 'TargetType'.\n",
    "## Same for 'TargetSubType1','TargetSubType2' and 'TargetSubType3' into one column called 'TargetSubType'.\n",
    "## Same for 'TargetType1','TargetType2' and ''TargetType3' into one columns called 'TargetType'\n",
    "## Same for 'natlty1','natlty2' and 'natlty3' belongs to nationality of target that was attacked needs to combine into one columns called 'Nationality'.\n",
    "## 'nkill''n_wounded' applying total number of casuality occur into one columns as 'Ncasuality'"
   ]
  },
  {
   "cell_type": "code",
   "execution_count": 10,
   "metadata": {
    "id": "IESv7VqkZxAD"
   },
   "outputs": [],
   "source": [
    "df['GroupSubName']=df['gsubname'].astype(str)+\" \"+df['gsubname2'].astype(str)+\" \"+df['gsubname3'].astype(str)\n",
    "df['GroupName']=df['gname'].astype(str)+\" \"+df['gname2'].astype(str)+\" \"+df['gname3'].astype(str)\n",
    "df['WeponType']=df['WeapType1'].astype(str)+\" \"+df['WeapType2'].astype(str)+\" \"+df['WeapType3'].astype(str)+\" \"+df['WeapType4'].astype(str)\n",
    "df['WeponSubType']=df['WeapSubType1'].astype(str)+\" \"+df['WeapSubType2'].astype(str)+\" \"+df['WeapSubType3'].astype(str)+\" \"+df['WeapSubType4'].astype(str)\n",
    "df['AttackType']=df['AttackType1'].astype(str)+\" \"+df['AttackType2'].astype(str)+\" \"+df['AttackType3'].astype(str)\n",
    "df['Target']=df['target1'].astype(str)+\" \"+df['target2'].astype(str)+\" \"+df['target3'].astype(str)\n",
    "df['TargetSubType']=df['TargetSubType1'].astype(str)+\" \"+df['TargetSubType2'].astype(str)+\" \"+df['TargetSubType3'].astype(str)\n",
    "df['TargetType']=df['TargetType1'].astype(str)+\" \"+df['TargetType2'].astype(str)+\" \"+df['TargetType3'].astype(str)\n",
    "df['Nationality']=df['Natlty1'].astype(str)+\" \"+df['Natlty2'].astype(str)+\" \"+df['Natlty3'].astype(str)\n",
    "df['TotalCasuality']=df['nkill']+df['nwound']+df['nkillus']+df['nwoundus']\n",
    "df['ClaimMode']=df['ClaimMode1'].astype(str)+\" \"+df['ClaimMode2'].astype(str)+\" \"+df['ClaimMode3'].astype(str)"
   ]
  },
  {
   "cell_type": "code",
   "execution_count": 11,
   "metadata": {
    "id": "UVmBwgtxQU3s"
   },
   "outputs": [],
   "source": [
    "## Now some of the columns which need to be deleted\n",
    "delete_col=['gsubname','gsubname2','gsubname3','gname','gname2','gname3','WeapType1','WeapType2','WeapType3','WeapType4','WeapSubType1','WeapSubType2','WeapSubType3',\n",
    "            'WeapSubType4','AttackType1','AttackType2','AttackType3','target1','target2','target3','TargetSubType1','TargetSubType2','TargetSubType3','TargetType1',\n",
    "            'TargetType2','TargetType3','Natlty1','Natlty2','Natlty3','nkill','nwound','nkillus','nwoundus','ClaimMode1','ClaimMode2','ClaimMode3','eventid']\n",
    "\n",
    "df.drop(delete_col,inplace=True,axis=1)"
   ]
  },
  {
   "cell_type": "code",
   "execution_count": 12,
   "metadata": {
    "colab": {
     "base_uri": "https://localhost:8080/",
     "height": 151
    },
    "id": "vXLqFmh3SP5n",
    "outputId": "0ad902a8-73ac-4519-972f-94c4c4dbbc27"
   },
   "outputs": [
    {
     "data": {
      "text/html": [
       "<div>\n",
       "<style scoped>\n",
       "    .dataframe tbody tr th:only-of-type {\n",
       "        vertical-align: middle;\n",
       "    }\n",
       "\n",
       "    .dataframe tbody tr th {\n",
       "        vertical-align: top;\n",
       "    }\n",
       "\n",
       "    .dataframe thead th {\n",
       "        text-align: right;\n",
       "    }\n",
       "</style>\n",
       "<table border=\"1\" class=\"dataframe\">\n",
       "  <thead>\n",
       "    <tr style=\"text-align: right;\">\n",
       "      <th></th>\n",
       "      <th>Year</th>\n",
       "      <th>Month</th>\n",
       "      <th>Day</th>\n",
       "      <th>approxdate</th>\n",
       "      <th>extended</th>\n",
       "      <th>resolution</th>\n",
       "      <th>Country</th>\n",
       "      <th>Region</th>\n",
       "      <th>provstate</th>\n",
       "      <th>city</th>\n",
       "      <th>latitude</th>\n",
       "      <th>longitude</th>\n",
       "      <th>specificity</th>\n",
       "      <th>vicinity</th>\n",
       "      <th>location</th>\n",
       "      <th>summary</th>\n",
       "      <th>crit1</th>\n",
       "      <th>crit2</th>\n",
       "      <th>crit3</th>\n",
       "      <th>doubtterr</th>\n",
       "      <th>Alternative</th>\n",
       "      <th>multiple</th>\n",
       "      <th>success</th>\n",
       "      <th>suicide</th>\n",
       "      <th>corp1</th>\n",
       "      <th>corp2</th>\n",
       "      <th>corp3</th>\n",
       "      <th>motive</th>\n",
       "      <th>guncertain1</th>\n",
       "      <th>guncertain2</th>\n",
       "      <th>guncertain3</th>\n",
       "      <th>individual</th>\n",
       "      <th>nperps</th>\n",
       "      <th>nperpcap</th>\n",
       "      <th>claimed</th>\n",
       "      <th>claim2</th>\n",
       "      <th>claim3</th>\n",
       "      <th>compclaim</th>\n",
       "      <th>weapdetail</th>\n",
       "      <th>nkillter</th>\n",
       "      <th>nwoundte</th>\n",
       "      <th>property</th>\n",
       "      <th>PropeRXtent</th>\n",
       "      <th>propvalue</th>\n",
       "      <th>propcomment</th>\n",
       "      <th>ishostkid</th>\n",
       "      <th>nhostkid</th>\n",
       "      <th>nhostkidus</th>\n",
       "      <th>nhours</th>\n",
       "      <th>ndays</th>\n",
       "      <th>divert</th>\n",
       "      <th>kidhijcountry</th>\n",
       "      <th>ransom</th>\n",
       "      <th>ransomamt</th>\n",
       "      <th>ransomamtus</th>\n",
       "      <th>ransompaid</th>\n",
       "      <th>ransompaidus</th>\n",
       "      <th>ransomnote</th>\n",
       "      <th>hostkidoutcome_txt</th>\n",
       "      <th>nreleased</th>\n",
       "      <th>addnotes</th>\n",
       "      <th>scite1</th>\n",
       "      <th>scite2</th>\n",
       "      <th>scite3</th>\n",
       "      <th>dbsource</th>\n",
       "      <th>INT_LOG</th>\n",
       "      <th>INT_IDEO</th>\n",
       "      <th>INT_MISC</th>\n",
       "      <th>INT_ANY</th>\n",
       "      <th>related</th>\n",
       "      <th>GroupSubName</th>\n",
       "      <th>GroupName</th>\n",
       "      <th>WeponType</th>\n",
       "      <th>WeponSubType</th>\n",
       "      <th>AttackType</th>\n",
       "      <th>Target</th>\n",
       "      <th>TargetSubType</th>\n",
       "      <th>TargetType</th>\n",
       "      <th>Nationality</th>\n",
       "      <th>TotalCasuality</th>\n",
       "      <th>ClaimMode</th>\n",
       "    </tr>\n",
       "  </thead>\n",
       "  <tbody>\n",
       "    <tr>\n",
       "      <th>0</th>\n",
       "      <td>1970</td>\n",
       "      <td>7</td>\n",
       "      <td>2</td>\n",
       "      <td>NaN</td>\n",
       "      <td>0</td>\n",
       "      <td>NaN</td>\n",
       "      <td>Dominican Republic</td>\n",
       "      <td>Central America &amp; Caribbean</td>\n",
       "      <td>NaN</td>\n",
       "      <td>Santo Domingo</td>\n",
       "      <td>18.456792</td>\n",
       "      <td>-69.951164</td>\n",
       "      <td>1.0</td>\n",
       "      <td>0</td>\n",
       "      <td>NaN</td>\n",
       "      <td>NaN</td>\n",
       "      <td>1</td>\n",
       "      <td>1</td>\n",
       "      <td>1</td>\n",
       "      <td>0.0</td>\n",
       "      <td>NaN</td>\n",
       "      <td>0.0</td>\n",
       "      <td>1</td>\n",
       "      <td>0</td>\n",
       "      <td>NaN</td>\n",
       "      <td>NaN</td>\n",
       "      <td>NaN</td>\n",
       "      <td>NaN</td>\n",
       "      <td>0.0</td>\n",
       "      <td>NaN</td>\n",
       "      <td>NaN</td>\n",
       "      <td>0</td>\n",
       "      <td>NaN</td>\n",
       "      <td>NaN</td>\n",
       "      <td>NaN</td>\n",
       "      <td>NaN</td>\n",
       "      <td>NaN</td>\n",
       "      <td>NaN</td>\n",
       "      <td>NaN</td>\n",
       "      <td>NaN</td>\n",
       "      <td>NaN</td>\n",
       "      <td>0</td>\n",
       "      <td>NaN</td>\n",
       "      <td>NaN</td>\n",
       "      <td>NaN</td>\n",
       "      <td>0.0</td>\n",
       "      <td>NaN</td>\n",
       "      <td>NaN</td>\n",
       "      <td>NaN</td>\n",
       "      <td>NaN</td>\n",
       "      <td>NaN</td>\n",
       "      <td>NaN</td>\n",
       "      <td>0.0</td>\n",
       "      <td>NaN</td>\n",
       "      <td>NaN</td>\n",
       "      <td>NaN</td>\n",
       "      <td>NaN</td>\n",
       "      <td>NaN</td>\n",
       "      <td>NaN</td>\n",
       "      <td>NaN</td>\n",
       "      <td>NaN</td>\n",
       "      <td>NaN</td>\n",
       "      <td>NaN</td>\n",
       "      <td>NaN</td>\n",
       "      <td>PGIS</td>\n",
       "      <td>0</td>\n",
       "      <td>0</td>\n",
       "      <td>0</td>\n",
       "      <td>0</td>\n",
       "      <td>NaN</td>\n",
       "      <td>nan nan nan</td>\n",
       "      <td>MANO-D nan nan</td>\n",
       "      <td>Unknown nan nan nan</td>\n",
       "      <td>nan nan nan nan</td>\n",
       "      <td>Assassination nan nan</td>\n",
       "      <td>Julio Guzman nan nan</td>\n",
       "      <td>Named Civilian nan nan</td>\n",
       "      <td>Private Citizens &amp; Property nan nan</td>\n",
       "      <td>Dominican Republic nan nan</td>\n",
       "      <td>NaN</td>\n",
       "      <td>nan nan nan</td>\n",
       "    </tr>\n",
       "  </tbody>\n",
       "</table>\n",
       "</div>"
      ],
      "text/plain": [
       "   Year  Month  Day approxdate  extended resolution             Country  \\\n",
       "0  1970      7    2        NaN         0        NaN  Dominican Republic   \n",
       "\n",
       "                        Region provstate           city   latitude  longitude  \\\n",
       "0  Central America & Caribbean       NaN  Santo Domingo  18.456792 -69.951164   \n",
       "\n",
       "   specificity  vicinity location summary  crit1  crit2  crit3  doubtterr  \\\n",
       "0          1.0         0      NaN     NaN      1      1      1        0.0   \n",
       "\n",
       "  Alternative  multiple  success  suicide corp1 corp2 corp3 motive  \\\n",
       "0         NaN       0.0        1        0   NaN   NaN   NaN    NaN   \n",
       "\n",
       "   guncertain1  guncertain2  guncertain3  individual  nperps  nperpcap  \\\n",
       "0          0.0          NaN          NaN           0     NaN       NaN   \n",
       "\n",
       "   claimed  claim2  claim3  compclaim weapdetail  nkillter  nwoundte  \\\n",
       "0      NaN     NaN     NaN        NaN        NaN       NaN       NaN   \n",
       "\n",
       "   property PropeRXtent  propvalue propcomment  ishostkid  nhostkid  \\\n",
       "0         0         NaN        NaN         NaN        0.0       NaN   \n",
       "\n",
       "   nhostkidus  nhours  ndays divert kidhijcountry  ransom  ransomamt  \\\n",
       "0         NaN     NaN    NaN    NaN           NaN     0.0        NaN   \n",
       "\n",
       "   ransomamtus  ransompaid  ransompaidus ransomnote hostkidoutcome_txt  \\\n",
       "0          NaN         NaN           NaN        NaN                NaN   \n",
       "\n",
       "   nreleased addnotes scite1 scite2 scite3 dbsource  INT_LOG  INT_IDEO  \\\n",
       "0        NaN      NaN    NaN    NaN    NaN     PGIS        0         0   \n",
       "\n",
       "   INT_MISC  INT_ANY related GroupSubName       GroupName  \\\n",
       "0         0        0     NaN  nan nan nan  MANO-D nan nan   \n",
       "\n",
       "             WeponType     WeponSubType             AttackType  \\\n",
       "0  Unknown nan nan nan  nan nan nan nan  Assassination nan nan   \n",
       "\n",
       "                 Target           TargetSubType  \\\n",
       "0  Julio Guzman nan nan  Named Civilian nan nan   \n",
       "\n",
       "                            TargetType                 Nationality  \\\n",
       "0  Private Citizens & Property nan nan  Dominican Republic nan nan   \n",
       "\n",
       "   TotalCasuality    ClaimMode  \n",
       "0             NaN  nan nan nan  "
      ]
     },
     "execution_count": 12,
     "metadata": {},
     "output_type": "execute_result"
    }
   ],
   "source": [
    "df.head(1)"
   ]
  },
  {
   "cell_type": "code",
   "execution_count": 13,
   "metadata": {
    "colab": {
     "base_uri": "https://localhost:8080/",
     "height": 1000
    },
    "id": "GMwjGvUybaxw",
    "outputId": "91b02893-9236-4679-cee3-bac32f8e81b1"
   },
   "outputs": [
    {
     "data": {
      "text/html": [
       "<div>\n",
       "<style scoped>\n",
       "    .dataframe tbody tr th:only-of-type {\n",
       "        vertical-align: middle;\n",
       "    }\n",
       "\n",
       "    .dataframe tbody tr th {\n",
       "        vertical-align: top;\n",
       "    }\n",
       "\n",
       "    .dataframe thead th {\n",
       "        text-align: right;\n",
       "    }\n",
       "</style>\n",
       "<table border=\"1\" class=\"dataframe\">\n",
       "  <thead>\n",
       "    <tr style=\"text-align: right;\">\n",
       "      <th></th>\n",
       "      <th>Missing_value_count</th>\n",
       "      <th>Missing_percentage</th>\n",
       "    </tr>\n",
       "  </thead>\n",
       "  <tbody>\n",
       "    <tr>\n",
       "      <th>divert</th>\n",
       "      <td>176824</td>\n",
       "      <td>0.998210</td>\n",
       "    </tr>\n",
       "    <tr>\n",
       "      <th>claim3</th>\n",
       "      <td>176824</td>\n",
       "      <td>0.998210</td>\n",
       "    </tr>\n",
       "    <tr>\n",
       "      <th>guncertain3</th>\n",
       "      <td>176822</td>\n",
       "      <td>0.998199</td>\n",
       "    </tr>\n",
       "    <tr>\n",
       "      <th>ransomnote</th>\n",
       "      <td>176630</td>\n",
       "      <td>0.997115</td>\n",
       "    </tr>\n",
       "    <tr>\n",
       "      <th>ransompaidus</th>\n",
       "      <td>176589</td>\n",
       "      <td>0.996884</td>\n",
       "    </tr>\n",
       "    <tr>\n",
       "      <th>ransomamtus</th>\n",
       "      <td>176578</td>\n",
       "      <td>0.996822</td>\n",
       "    </tr>\n",
       "    <tr>\n",
       "      <th>ransompaid</th>\n",
       "      <td>176367</td>\n",
       "      <td>0.995631</td>\n",
       "    </tr>\n",
       "    <tr>\n",
       "      <th>corp3</th>\n",
       "      <td>176122</td>\n",
       "      <td>0.994248</td>\n",
       "    </tr>\n",
       "    <tr>\n",
       "      <th>ransomamt</th>\n",
       "      <td>175793</td>\n",
       "      <td>0.992390</td>\n",
       "    </tr>\n",
       "    <tr>\n",
       "      <th>claim2</th>\n",
       "      <td>175315</td>\n",
       "      <td>0.989692</td>\n",
       "    </tr>\n",
       "    <tr>\n",
       "      <th>guncertain2</th>\n",
       "      <td>175250</td>\n",
       "      <td>0.989325</td>\n",
       "    </tr>\n",
       "    <tr>\n",
       "      <th>resolution</th>\n",
       "      <td>174924</td>\n",
       "      <td>0.987485</td>\n",
       "    </tr>\n",
       "    <tr>\n",
       "      <th>kidhijcountry</th>\n",
       "      <td>173885</td>\n",
       "      <td>0.981619</td>\n",
       "    </tr>\n",
       "    <tr>\n",
       "      <th>nhours</th>\n",
       "      <td>173108</td>\n",
       "      <td>0.977233</td>\n",
       "    </tr>\n",
       "    <tr>\n",
       "      <th>compclaim</th>\n",
       "      <td>172310</td>\n",
       "      <td>0.972728</td>\n",
       "    </tr>\n",
       "    <tr>\n",
       "      <th>ndays</th>\n",
       "      <td>169077</td>\n",
       "      <td>0.954477</td>\n",
       "    </tr>\n",
       "    <tr>\n",
       "      <th>approxdate</th>\n",
       "      <td>168722</td>\n",
       "      <td>0.952473</td>\n",
       "    </tr>\n",
       "    <tr>\n",
       "      <th>corp2</th>\n",
       "      <td>167133</td>\n",
       "      <td>0.943503</td>\n",
       "    </tr>\n",
       "    <tr>\n",
       "      <th>nreleased</th>\n",
       "      <td>166824</td>\n",
       "      <td>0.941758</td>\n",
       "    </tr>\n",
       "    <tr>\n",
       "      <th>hostkidoutcome_txt</th>\n",
       "      <td>166234</td>\n",
       "      <td>0.938428</td>\n",
       "    </tr>\n",
       "    <tr>\n",
       "      <th>nhostkidus</th>\n",
       "      <td>163777</td>\n",
       "      <td>0.924557</td>\n",
       "    </tr>\n",
       "    <tr>\n",
       "      <th>nhostkid</th>\n",
       "      <td>163722</td>\n",
       "      <td>0.924247</td>\n",
       "    </tr>\n",
       "    <tr>\n",
       "      <th>related</th>\n",
       "      <td>154675</td>\n",
       "      <td>0.873174</td>\n",
       "    </tr>\n",
       "    <tr>\n",
       "      <th>addnotes</th>\n",
       "      <td>149306</td>\n",
       "      <td>0.842865</td>\n",
       "    </tr>\n",
       "    <tr>\n",
       "      <th>Alternative</th>\n",
       "      <td>148431</td>\n",
       "      <td>0.837926</td>\n",
       "    </tr>\n",
       "    <tr>\n",
       "      <th>propvalue</th>\n",
       "      <td>139916</td>\n",
       "      <td>0.789857</td>\n",
       "    </tr>\n",
       "    <tr>\n",
       "      <th>scite3</th>\n",
       "      <td>134180</td>\n",
       "      <td>0.757476</td>\n",
       "    </tr>\n",
       "    <tr>\n",
       "      <th>motive</th>\n",
       "      <td>126969</td>\n",
       "      <td>0.716768</td>\n",
       "    </tr>\n",
       "    <tr>\n",
       "      <th>location</th>\n",
       "      <td>122063</td>\n",
       "      <td>0.689073</td>\n",
       "    </tr>\n",
       "    <tr>\n",
       "      <th>propcomment</th>\n",
       "      <td>120513</td>\n",
       "      <td>0.680322</td>\n",
       "    </tr>\n",
       "    <tr>\n",
       "      <th>PropeRXtent</th>\n",
       "      <td>115202</td>\n",
       "      <td>0.650341</td>\n",
       "    </tr>\n",
       "    <tr>\n",
       "      <th>ransom</th>\n",
       "      <td>102382</td>\n",
       "      <td>0.577969</td>\n",
       "    </tr>\n",
       "    <tr>\n",
       "      <th>scite2</th>\n",
       "      <td>101229</td>\n",
       "      <td>0.571460</td>\n",
       "    </tr>\n",
       "    <tr>\n",
       "      <th>TotalCasuality</th>\n",
       "      <td>70523</td>\n",
       "      <td>0.398118</td>\n",
       "    </tr>\n",
       "    <tr>\n",
       "      <th>nperps</th>\n",
       "      <td>68642</td>\n",
       "      <td>0.387499</td>\n",
       "    </tr>\n",
       "    <tr>\n",
       "      <th>nperpcap</th>\n",
       "      <td>66950</td>\n",
       "      <td>0.377948</td>\n",
       "    </tr>\n",
       "    <tr>\n",
       "      <th>nwoundte</th>\n",
       "      <td>66572</td>\n",
       "      <td>0.375814</td>\n",
       "    </tr>\n",
       "    <tr>\n",
       "      <th>weapdetail</th>\n",
       "      <td>66051</td>\n",
       "      <td>0.372872</td>\n",
       "    </tr>\n",
       "    <tr>\n",
       "      <th>nkillter</th>\n",
       "      <td>64416</td>\n",
       "      <td>0.363643</td>\n",
       "    </tr>\n",
       "    <tr>\n",
       "      <th>scite1</th>\n",
       "      <td>63653</td>\n",
       "      <td>0.359335</td>\n",
       "    </tr>\n",
       "    <tr>\n",
       "      <th>summary</th>\n",
       "      <td>63591</td>\n",
       "      <td>0.358985</td>\n",
       "    </tr>\n",
       "    <tr>\n",
       "      <th>claimed</th>\n",
       "      <td>63582</td>\n",
       "      <td>0.358934</td>\n",
       "    </tr>\n",
       "    <tr>\n",
       "      <th>corp1</th>\n",
       "      <td>40676</td>\n",
       "      <td>0.229625</td>\n",
       "    </tr>\n",
       "    <tr>\n",
       "      <th>longitude</th>\n",
       "      <td>4370</td>\n",
       "      <td>0.024670</td>\n",
       "    </tr>\n",
       "    <tr>\n",
       "      <th>latitude</th>\n",
       "      <td>4369</td>\n",
       "      <td>0.024664</td>\n",
       "    </tr>\n",
       "    <tr>\n",
       "      <th>city</th>\n",
       "      <td>434</td>\n",
       "      <td>0.002450</td>\n",
       "    </tr>\n",
       "    <tr>\n",
       "      <th>provstate</th>\n",
       "      <td>421</td>\n",
       "      <td>0.002377</td>\n",
       "    </tr>\n",
       "    <tr>\n",
       "      <th>guncertain1</th>\n",
       "      <td>380</td>\n",
       "      <td>0.002145</td>\n",
       "    </tr>\n",
       "    <tr>\n",
       "      <th>ishostkid</th>\n",
       "      <td>177</td>\n",
       "      <td>0.000999</td>\n",
       "    </tr>\n",
       "    <tr>\n",
       "      <th>specificity</th>\n",
       "      <td>6</td>\n",
       "      <td>0.000034</td>\n",
       "    </tr>\n",
       "    <tr>\n",
       "      <th>doubtterr</th>\n",
       "      <td>1</td>\n",
       "      <td>0.000006</td>\n",
       "    </tr>\n",
       "    <tr>\n",
       "      <th>multiple</th>\n",
       "      <td>1</td>\n",
       "      <td>0.000006</td>\n",
       "    </tr>\n",
       "    <tr>\n",
       "      <th>Region</th>\n",
       "      <td>0</td>\n",
       "      <td>0.000000</td>\n",
       "    </tr>\n",
       "    <tr>\n",
       "      <th>vicinity</th>\n",
       "      <td>0</td>\n",
       "      <td>0.000000</td>\n",
       "    </tr>\n",
       "    <tr>\n",
       "      <th>crit1</th>\n",
       "      <td>0</td>\n",
       "      <td>0.000000</td>\n",
       "    </tr>\n",
       "    <tr>\n",
       "      <th>extended</th>\n",
       "      <td>0</td>\n",
       "      <td>0.000000</td>\n",
       "    </tr>\n",
       "    <tr>\n",
       "      <th>Day</th>\n",
       "      <td>0</td>\n",
       "      <td>0.000000</td>\n",
       "    </tr>\n",
       "    <tr>\n",
       "      <th>Month</th>\n",
       "      <td>0</td>\n",
       "      <td>0.000000</td>\n",
       "    </tr>\n",
       "    <tr>\n",
       "      <th>crit2</th>\n",
       "      <td>0</td>\n",
       "      <td>0.000000</td>\n",
       "    </tr>\n",
       "    <tr>\n",
       "      <th>crit3</th>\n",
       "      <td>0</td>\n",
       "      <td>0.000000</td>\n",
       "    </tr>\n",
       "    <tr>\n",
       "      <th>Country</th>\n",
       "      <td>0</td>\n",
       "      <td>0.000000</td>\n",
       "    </tr>\n",
       "    <tr>\n",
       "      <th>ClaimMode</th>\n",
       "      <td>0</td>\n",
       "      <td>0.000000</td>\n",
       "    </tr>\n",
       "    <tr>\n",
       "      <th>success</th>\n",
       "      <td>0</td>\n",
       "      <td>0.000000</td>\n",
       "    </tr>\n",
       "    <tr>\n",
       "      <th>GroupName</th>\n",
       "      <td>0</td>\n",
       "      <td>0.000000</td>\n",
       "    </tr>\n",
       "    <tr>\n",
       "      <th>Nationality</th>\n",
       "      <td>0</td>\n",
       "      <td>0.000000</td>\n",
       "    </tr>\n",
       "    <tr>\n",
       "      <th>TargetType</th>\n",
       "      <td>0</td>\n",
       "      <td>0.000000</td>\n",
       "    </tr>\n",
       "    <tr>\n",
       "      <th>TargetSubType</th>\n",
       "      <td>0</td>\n",
       "      <td>0.000000</td>\n",
       "    </tr>\n",
       "    <tr>\n",
       "      <th>Target</th>\n",
       "      <td>0</td>\n",
       "      <td>0.000000</td>\n",
       "    </tr>\n",
       "    <tr>\n",
       "      <th>AttackType</th>\n",
       "      <td>0</td>\n",
       "      <td>0.000000</td>\n",
       "    </tr>\n",
       "    <tr>\n",
       "      <th>WeponSubType</th>\n",
       "      <td>0</td>\n",
       "      <td>0.000000</td>\n",
       "    </tr>\n",
       "    <tr>\n",
       "      <th>WeponType</th>\n",
       "      <td>0</td>\n",
       "      <td>0.000000</td>\n",
       "    </tr>\n",
       "    <tr>\n",
       "      <th>GroupSubName</th>\n",
       "      <td>0</td>\n",
       "      <td>0.000000</td>\n",
       "    </tr>\n",
       "    <tr>\n",
       "      <th>suicide</th>\n",
       "      <td>0</td>\n",
       "      <td>0.000000</td>\n",
       "    </tr>\n",
       "    <tr>\n",
       "      <th>INT_ANY</th>\n",
       "      <td>0</td>\n",
       "      <td>0.000000</td>\n",
       "    </tr>\n",
       "    <tr>\n",
       "      <th>INT_MISC</th>\n",
       "      <td>0</td>\n",
       "      <td>0.000000</td>\n",
       "    </tr>\n",
       "    <tr>\n",
       "      <th>INT_IDEO</th>\n",
       "      <td>0</td>\n",
       "      <td>0.000000</td>\n",
       "    </tr>\n",
       "    <tr>\n",
       "      <th>INT_LOG</th>\n",
       "      <td>0</td>\n",
       "      <td>0.000000</td>\n",
       "    </tr>\n",
       "    <tr>\n",
       "      <th>dbsource</th>\n",
       "      <td>0</td>\n",
       "      <td>0.000000</td>\n",
       "    </tr>\n",
       "    <tr>\n",
       "      <th>property</th>\n",
       "      <td>0</td>\n",
       "      <td>0.000000</td>\n",
       "    </tr>\n",
       "    <tr>\n",
       "      <th>individual</th>\n",
       "      <td>0</td>\n",
       "      <td>0.000000</td>\n",
       "    </tr>\n",
       "    <tr>\n",
       "      <th>Year</th>\n",
       "      <td>0</td>\n",
       "      <td>0.000000</td>\n",
       "    </tr>\n",
       "  </tbody>\n",
       "</table>\n",
       "</div>"
      ],
      "text/plain": [
       "                    Missing_value_count  Missing_percentage\n",
       "divert                           176824            0.998210\n",
       "claim3                           176824            0.998210\n",
       "guncertain3                      176822            0.998199\n",
       "ransomnote                       176630            0.997115\n",
       "ransompaidus                     176589            0.996884\n",
       "ransomamtus                      176578            0.996822\n",
       "ransompaid                       176367            0.995631\n",
       "corp3                            176122            0.994248\n",
       "ransomamt                        175793            0.992390\n",
       "claim2                           175315            0.989692\n",
       "guncertain2                      175250            0.989325\n",
       "resolution                       174924            0.987485\n",
       "kidhijcountry                    173885            0.981619\n",
       "nhours                           173108            0.977233\n",
       "compclaim                        172310            0.972728\n",
       "ndays                            169077            0.954477\n",
       "approxdate                       168722            0.952473\n",
       "corp2                            167133            0.943503\n",
       "nreleased                        166824            0.941758\n",
       "hostkidoutcome_txt               166234            0.938428\n",
       "nhostkidus                       163777            0.924557\n",
       "nhostkid                         163722            0.924247\n",
       "related                          154675            0.873174\n",
       "addnotes                         149306            0.842865\n",
       "Alternative                      148431            0.837926\n",
       "propvalue                        139916            0.789857\n",
       "scite3                           134180            0.757476\n",
       "motive                           126969            0.716768\n",
       "location                         122063            0.689073\n",
       "propcomment                      120513            0.680322\n",
       "PropeRXtent                      115202            0.650341\n",
       "ransom                           102382            0.577969\n",
       "scite2                           101229            0.571460\n",
       "TotalCasuality                    70523            0.398118\n",
       "nperps                            68642            0.387499\n",
       "nperpcap                          66950            0.377948\n",
       "nwoundte                          66572            0.375814\n",
       "weapdetail                        66051            0.372872\n",
       "nkillter                          64416            0.363643\n",
       "scite1                            63653            0.359335\n",
       "summary                           63591            0.358985\n",
       "claimed                           63582            0.358934\n",
       "corp1                             40676            0.229625\n",
       "longitude                          4370            0.024670\n",
       "latitude                           4369            0.024664\n",
       "city                                434            0.002450\n",
       "provstate                           421            0.002377\n",
       "guncertain1                         380            0.002145\n",
       "ishostkid                           177            0.000999\n",
       "specificity                           6            0.000034\n",
       "doubtterr                             1            0.000006\n",
       "multiple                              1            0.000006\n",
       "Region                                0            0.000000\n",
       "vicinity                              0            0.000000\n",
       "crit1                                 0            0.000000\n",
       "extended                              0            0.000000\n",
       "Day                                   0            0.000000\n",
       "Month                                 0            0.000000\n",
       "crit2                                 0            0.000000\n",
       "crit3                                 0            0.000000\n",
       "Country                               0            0.000000\n",
       "ClaimMode                             0            0.000000\n",
       "success                               0            0.000000\n",
       "GroupName                             0            0.000000\n",
       "Nationality                           0            0.000000\n",
       "TargetType                            0            0.000000\n",
       "TargetSubType                         0            0.000000\n",
       "Target                                0            0.000000\n",
       "AttackType                            0            0.000000\n",
       "WeponSubType                          0            0.000000\n",
       "WeponType                             0            0.000000\n",
       "GroupSubName                          0            0.000000\n",
       "suicide                               0            0.000000\n",
       "INT_ANY                               0            0.000000\n",
       "INT_MISC                              0            0.000000\n",
       "INT_IDEO                              0            0.000000\n",
       "INT_LOG                               0            0.000000\n",
       "dbsource                              0            0.000000\n",
       "property                              0            0.000000\n",
       "individual                            0            0.000000\n",
       "Year                                  0            0.000000"
      ]
     },
     "execution_count": 13,
     "metadata": {},
     "output_type": "execute_result"
    }
   ],
   "source": [
    "## Lets check the null values \n",
    "\n",
    "missing_data=df.isnull().sum().sort_values(ascending=False)\n",
    "percentage_missing_data=(df.isnull().sum()/df.isnull().count()).sort_values(ascending=False)\n",
    "info=pd.concat([missing_data,percentage_missing_data],keys=['Missing_value_count','Missing_percentage'],axis=1,ignore_index=False)\n",
    "\n",
    "info"
   ]
  },
  {
   "cell_type": "code",
   "execution_count": 14,
   "metadata": {
    "id": "AzQhE7JlealJ"
   },
   "outputs": [],
   "source": [
    "## Lets select the columns where NAN value is greater than or equal to 90 percent\n",
    "col_greater=[]\n",
    "col_lesseer=[]\n",
    "for i in info.index:\n",
    "  if(info['Missing_percentage'][i]>=0.90):\n",
    "    col_greater.append(i)\n",
    "  else:\n",
    "    col_lesseer.append(i)\n",
    "\n"
   ]
  },
  {
   "cell_type": "code",
   "execution_count": 15,
   "metadata": {
    "id": "jb9yzcuJnFn0"
   },
   "outputs": [],
   "source": [
    "## Lets seperate the object and contionous column seperated\n",
    "cat=[x for x in col_greater if df[x].dtype=='O']\n",
    "con=[x for x in col_greater if x not in cat]"
   ]
  },
  {
   "cell_type": "code",
   "execution_count": 16,
   "metadata": {
    "colab": {
     "base_uri": "https://localhost:8080/"
    },
    "id": "ZnOvv3WboIDq",
    "outputId": "30d9de98-9391-4331-9425-24ac22b3e140"
   },
   "outputs": [
    {
     "data": {
      "text/plain": [
       "['divert',\n",
       " 'claim3',\n",
       " 'guncertain3',\n",
       " 'ransomnote',\n",
       " 'ransompaidus',\n",
       " 'ransomamtus',\n",
       " 'ransompaid',\n",
       " 'corp3',\n",
       " 'ransomamt',\n",
       " 'claim2',\n",
       " 'guncertain2',\n",
       " 'resolution',\n",
       " 'kidhijcountry',\n",
       " 'nhours',\n",
       " 'compclaim',\n",
       " 'ndays',\n",
       " 'approxdate',\n",
       " 'corp2',\n",
       " 'nreleased',\n",
       " 'hostkidoutcome_txt',\n",
       " 'nhostkidus',\n",
       " 'nhostkid']"
      ]
     },
     "execution_count": 16,
     "metadata": {},
     "output_type": "execute_result"
    }
   ],
   "source": [
    "col_greater"
   ]
  },
  {
   "cell_type": "code",
   "execution_count": 17,
   "metadata": {
    "colab": {
     "base_uri": "https://localhost:8080/"
    },
    "id": "sAT_ngslWNf6",
    "outputId": "4df54d54-8a7d-46e8-d00a-d4be65d0f9ec"
   },
   "outputs": [
    {
     "data": {
      "text/plain": [
       "(4369, 4370, 434)"
      ]
     },
     "execution_count": 17,
     "metadata": {},
     "output_type": "execute_result"
    }
   ],
   "source": [
    "## Since lattitude and longitude is related to City .Therefore we can fill the nan value with the help of city.\n",
    "df['latitude'].isnull().sum() , df['longitude'].isnull().sum(),df['city'].isnull().sum()"
   ]
  },
  {
   "cell_type": "code",
   "execution_count": 18,
   "metadata": {
    "id": "Z_eMX11Lk7c9"
   },
   "outputs": [],
   "source": [
    "## For latitude\n",
    "df.loc[df['latitude'].isnull(),'LattiMiss']=1\n",
    "df.loc[df['latitude'].notnull(),'LattiMiss']=0\n",
    "\n",
    "## For longitude\n",
    "\n",
    "df.loc[df['longitude'].isnull(),'LongiMiss']=1\n",
    "df.loc[df['longitude'].notnull(),'LongiMiss']=0\n",
    "\n",
    "## For City\n",
    "\n",
    "df.loc[df['city'].isnull(),'city_miss']=1\n",
    "df.loc[df['city'].notnull(),'city_miss']=0"
   ]
  },
  {
   "cell_type": "code",
   "execution_count": 19,
   "metadata": {
    "id": "2xM9UTIDhTmW"
   },
   "outputs": [],
   "source": [
    "df.loc[(df['LattiMiss']==1) & (df['LongiMiss']==1)& (df['city_miss']==1)].shape\n",
    "# Lets drop the rows where all latitude longitude and city missing.\n",
    "df_new=df.drop(df[(df['LattiMiss']==1) & (df['LongiMiss']==1)& (df['city_miss']==1)].index)"
   ]
  },
  {
   "cell_type": "code",
   "execution_count": 20,
   "metadata": {
    "colab": {
     "base_uri": "https://localhost:8080/"
    },
    "id": "WMBBSsA5kiSh",
    "outputId": "7c61ae92-9b48-469a-aec2-7b11ba371149"
   },
   "outputs": [
    {
     "data": {
      "text/plain": [
       "(4361, 4362, 426)"
      ]
     },
     "execution_count": 20,
     "metadata": {},
     "output_type": "execute_result"
    }
   ],
   "source": [
    "df_new['latitude'].isnull().sum() , df_new['longitude'].isnull().sum() , df_new['city'].isnull().sum()"
   ]
  },
  {
   "cell_type": "code",
   "execution_count": 21,
   "metadata": {
    "colab": {
     "base_uri": "https://localhost:8080/",
     "height": 151
    },
    "id": "dq94pWE9m4e1",
    "outputId": "f26f9813-3e0a-453f-9715-d7099371e563"
   },
   "outputs": [
    {
     "data": {
      "text/html": [
       "<div>\n",
       "<style scoped>\n",
       "    .dataframe tbody tr th:only-of-type {\n",
       "        vertical-align: middle;\n",
       "    }\n",
       "\n",
       "    .dataframe tbody tr th {\n",
       "        vertical-align: top;\n",
       "    }\n",
       "\n",
       "    .dataframe thead th {\n",
       "        text-align: right;\n",
       "    }\n",
       "</style>\n",
       "<table border=\"1\" class=\"dataframe\">\n",
       "  <thead>\n",
       "    <tr style=\"text-align: right;\">\n",
       "      <th></th>\n",
       "      <th>Year</th>\n",
       "      <th>Month</th>\n",
       "      <th>Day</th>\n",
       "      <th>approxdate</th>\n",
       "      <th>extended</th>\n",
       "      <th>resolution</th>\n",
       "      <th>Country</th>\n",
       "      <th>Region</th>\n",
       "      <th>provstate</th>\n",
       "      <th>city</th>\n",
       "      <th>latitude</th>\n",
       "      <th>longitude</th>\n",
       "      <th>specificity</th>\n",
       "      <th>vicinity</th>\n",
       "      <th>location</th>\n",
       "      <th>summary</th>\n",
       "      <th>crit1</th>\n",
       "      <th>crit2</th>\n",
       "      <th>crit3</th>\n",
       "      <th>doubtterr</th>\n",
       "      <th>Alternative</th>\n",
       "      <th>multiple</th>\n",
       "      <th>success</th>\n",
       "      <th>suicide</th>\n",
       "      <th>corp1</th>\n",
       "      <th>corp2</th>\n",
       "      <th>corp3</th>\n",
       "      <th>motive</th>\n",
       "      <th>guncertain1</th>\n",
       "      <th>guncertain2</th>\n",
       "      <th>guncertain3</th>\n",
       "      <th>individual</th>\n",
       "      <th>nperps</th>\n",
       "      <th>nperpcap</th>\n",
       "      <th>claimed</th>\n",
       "      <th>claim2</th>\n",
       "      <th>claim3</th>\n",
       "      <th>compclaim</th>\n",
       "      <th>weapdetail</th>\n",
       "      <th>nkillter</th>\n",
       "      <th>nwoundte</th>\n",
       "      <th>property</th>\n",
       "      <th>PropeRXtent</th>\n",
       "      <th>propvalue</th>\n",
       "      <th>propcomment</th>\n",
       "      <th>ishostkid</th>\n",
       "      <th>nhostkid</th>\n",
       "      <th>nhostkidus</th>\n",
       "      <th>nhours</th>\n",
       "      <th>ndays</th>\n",
       "      <th>divert</th>\n",
       "      <th>kidhijcountry</th>\n",
       "      <th>ransom</th>\n",
       "      <th>ransomamt</th>\n",
       "      <th>ransomamtus</th>\n",
       "      <th>ransompaid</th>\n",
       "      <th>ransompaidus</th>\n",
       "      <th>ransomnote</th>\n",
       "      <th>hostkidoutcome_txt</th>\n",
       "      <th>nreleased</th>\n",
       "      <th>addnotes</th>\n",
       "      <th>scite1</th>\n",
       "      <th>scite2</th>\n",
       "      <th>scite3</th>\n",
       "      <th>dbsource</th>\n",
       "      <th>INT_LOG</th>\n",
       "      <th>INT_IDEO</th>\n",
       "      <th>INT_MISC</th>\n",
       "      <th>INT_ANY</th>\n",
       "      <th>related</th>\n",
       "      <th>GroupSubName</th>\n",
       "      <th>GroupName</th>\n",
       "      <th>WeponType</th>\n",
       "      <th>WeponSubType</th>\n",
       "      <th>AttackType</th>\n",
       "      <th>Target</th>\n",
       "      <th>TargetSubType</th>\n",
       "      <th>TargetType</th>\n",
       "      <th>Nationality</th>\n",
       "      <th>TotalCasuality</th>\n",
       "      <th>ClaimMode</th>\n",
       "      <th>LattiMiss</th>\n",
       "      <th>LongiMiss</th>\n",
       "      <th>city_miss</th>\n",
       "    </tr>\n",
       "  </thead>\n",
       "  <tbody>\n",
       "    <tr>\n",
       "      <th>53821</th>\n",
       "      <td>1992</td>\n",
       "      <td>11</td>\n",
       "      <td>6</td>\n",
       "      <td>NaN</td>\n",
       "      <td>0</td>\n",
       "      <td>NaN</td>\n",
       "      <td>Ghana</td>\n",
       "      <td>Sub-Saharan Africa</td>\n",
       "      <td>Greater Accra</td>\n",
       "      <td>Tema</td>\n",
       "      <td>5.666667</td>\n",
       "      <td>NaN</td>\n",
       "      <td>1.0</td>\n",
       "      <td>0</td>\n",
       "      <td>NaN</td>\n",
       "      <td>NaN</td>\n",
       "      <td>1</td>\n",
       "      <td>1</td>\n",
       "      <td>1</td>\n",
       "      <td>-9.0</td>\n",
       "      <td>NaN</td>\n",
       "      <td>0.0</td>\n",
       "      <td>1</td>\n",
       "      <td>0</td>\n",
       "      <td>Govt</td>\n",
       "      <td>NaN</td>\n",
       "      <td>NaN</td>\n",
       "      <td>NaN</td>\n",
       "      <td>0.0</td>\n",
       "      <td>NaN</td>\n",
       "      <td>NaN</td>\n",
       "      <td>0</td>\n",
       "      <td>NaN</td>\n",
       "      <td>NaN</td>\n",
       "      <td>NaN</td>\n",
       "      <td>NaN</td>\n",
       "      <td>NaN</td>\n",
       "      <td>NaN</td>\n",
       "      <td>Explosive</td>\n",
       "      <td>NaN</td>\n",
       "      <td>NaN</td>\n",
       "      <td>1</td>\n",
       "      <td>NaN</td>\n",
       "      <td>NaN</td>\n",
       "      <td>NaN</td>\n",
       "      <td>0.0</td>\n",
       "      <td>NaN</td>\n",
       "      <td>NaN</td>\n",
       "      <td>NaN</td>\n",
       "      <td>NaN</td>\n",
       "      <td>NaN</td>\n",
       "      <td>NaN</td>\n",
       "      <td>0.0</td>\n",
       "      <td>NaN</td>\n",
       "      <td>NaN</td>\n",
       "      <td>NaN</td>\n",
       "      <td>NaN</td>\n",
       "      <td>NaN</td>\n",
       "      <td>NaN</td>\n",
       "      <td>NaN</td>\n",
       "      <td>NaN</td>\n",
       "      <td>NaN</td>\n",
       "      <td>NaN</td>\n",
       "      <td>NaN</td>\n",
       "      <td>PGIS</td>\n",
       "      <td>-9</td>\n",
       "      <td>-9</td>\n",
       "      <td>0</td>\n",
       "      <td>-9</td>\n",
       "      <td>NaN</td>\n",
       "      <td>nan nan nan</td>\n",
       "      <td>Unknown nan nan</td>\n",
       "      <td>Explosives nan nan nan</td>\n",
       "      <td>Unknown Explosive Type nan nan nan</td>\n",
       "      <td>Bombing/Explosion nan nan</td>\n",
       "      <td>Street nan nan</td>\n",
       "      <td>Public Area (garden, parking lot, garage, beac...</td>\n",
       "      <td>Private Citizens &amp; Property nan nan</td>\n",
       "      <td>Ghana nan nan</td>\n",
       "      <td>NaN</td>\n",
       "      <td>nan nan nan</td>\n",
       "      <td>0.0</td>\n",
       "      <td>1.0</td>\n",
       "      <td>0.0</td>\n",
       "    </tr>\n",
       "  </tbody>\n",
       "</table>\n",
       "</div>"
      ],
      "text/plain": [
       "       Year  Month  Day approxdate  extended resolution Country  \\\n",
       "53821  1992     11    6        NaN         0        NaN   Ghana   \n",
       "\n",
       "                   Region      provstate  city  latitude  longitude  \\\n",
       "53821  Sub-Saharan Africa  Greater Accra  Tema  5.666667        NaN   \n",
       "\n",
       "       specificity  vicinity location summary  crit1  crit2  crit3  doubtterr  \\\n",
       "53821          1.0         0      NaN     NaN      1      1      1       -9.0   \n",
       "\n",
       "      Alternative  multiple  success  suicide corp1 corp2 corp3 motive  \\\n",
       "53821         NaN       0.0        1        0  Govt   NaN   NaN    NaN   \n",
       "\n",
       "       guncertain1  guncertain2  guncertain3  individual  nperps  nperpcap  \\\n",
       "53821          0.0          NaN          NaN           0     NaN       NaN   \n",
       "\n",
       "       claimed  claim2  claim3  compclaim weapdetail  nkillter  nwoundte  \\\n",
       "53821      NaN     NaN     NaN        NaN  Explosive       NaN       NaN   \n",
       "\n",
       "       property PropeRXtent  propvalue propcomment  ishostkid  nhostkid  \\\n",
       "53821         1         NaN        NaN         NaN        0.0       NaN   \n",
       "\n",
       "       nhostkidus  nhours  ndays divert kidhijcountry  ransom  ransomamt  \\\n",
       "53821         NaN     NaN    NaN    NaN           NaN     0.0        NaN   \n",
       "\n",
       "       ransomamtus  ransompaid  ransompaidus ransomnote hostkidoutcome_txt  \\\n",
       "53821          NaN         NaN           NaN        NaN                NaN   \n",
       "\n",
       "       nreleased addnotes scite1 scite2 scite3 dbsource  INT_LOG  INT_IDEO  \\\n",
       "53821        NaN      NaN    NaN    NaN    NaN     PGIS       -9        -9   \n",
       "\n",
       "       INT_MISC  INT_ANY related GroupSubName        GroupName  \\\n",
       "53821         0       -9     NaN  nan nan nan  Unknown nan nan   \n",
       "\n",
       "                    WeponType                        WeponSubType  \\\n",
       "53821  Explosives nan nan nan  Unknown Explosive Type nan nan nan   \n",
       "\n",
       "                      AttackType          Target  \\\n",
       "53821  Bombing/Explosion nan nan  Street nan nan   \n",
       "\n",
       "                                           TargetSubType  \\\n",
       "53821  Public Area (garden, parking lot, garage, beac...   \n",
       "\n",
       "                                TargetType    Nationality  TotalCasuality  \\\n",
       "53821  Private Citizens & Property nan nan  Ghana nan nan             NaN   \n",
       "\n",
       "         ClaimMode  LattiMiss  LongiMiss  city_miss  \n",
       "53821  nan nan nan        0.0        1.0        0.0  "
      ]
     },
     "execution_count": 21,
     "metadata": {},
     "output_type": "execute_result"
    }
   ],
   "source": [
    "df_new.loc[(df_new['LattiMiss']==0) & (df_new['LongiMiss']==1),:]"
   ]
  },
  {
   "cell_type": "code",
   "execution_count": 22,
   "metadata": {
    "id": "th1SWrLev86A"
   },
   "outputs": [],
   "source": [
    "## Now the one country where longitude is missing fill with the help of GeoCode.\n",
    "geolocator = Nominatim(user_agent=\"geoapiExercises\")\n",
    "city='Tema'\n",
    "  \n",
    "location = geolocator.geocode(city)\n",
    "df_new.loc[(df_new['LattiMiss']==0) & (df_new['LongiMiss']==1),'longitude']=location.longitude"
   ]
  },
  {
   "cell_type": "code",
   "execution_count": 23,
   "metadata": {
    "id": "0CgbMr_icLMI"
   },
   "outputs": [],
   "source": [
    "df_new['LattiMiss']=df_new['LattiMiss'].astype(int)\n",
    "df_new['LongiMiss']=df_new['LongiMiss'].astype(int)\n"
   ]
  },
  {
   "cell_type": "code",
   "execution_count": 24,
   "metadata": {
    "id": "yGxTmksPxP1Q"
   },
   "outputs": [],
   "source": [
    "group_data=df_new.loc[(df_new['LattiMiss']==1) & (df_new['LongiMiss']==1)]"
   ]
  },
  {
   "cell_type": "code",
   "execution_count": 25,
   "metadata": {
    "id": "QecrkFi11DCr"
   },
   "outputs": [],
   "source": [
    "nan_latti=df_new.loc[(df_new['LattiMiss']==1) & (df_new['LongiMiss']==1)]\n",
    "City_fill=list(nan_latti['city'].unique())"
   ]
  },
  {
   "cell_type": "code",
   "execution_count": 26,
   "metadata": {
    "id": "Mi94GLVw1FaB"
   },
   "outputs": [],
   "source": [
    "NanImputation_LattiLongi=pd.DataFrame(City_fill,columns=['city'])\n",
    "NanImputation_LattiLongi['Latitude']=0\n",
    "NanImputation_LattiLongi['Longitude']=0\n"
   ]
  },
  {
   "cell_type": "code",
   "execution_count": 27,
   "metadata": {
    "id": "tfboYI4a7Wly"
   },
   "outputs": [],
   "source": [
    "# declare an empty list to store \n",
    "# latitude and longitude of values  \n",
    "# of city column \n",
    "longitude = [] \n",
    "latitude = [] \n",
    "   \n",
    "# function to find the coordinate \n",
    "# of a given city  \n",
    "def findGeocode(City): \n",
    "       \n",
    "    # try and catch is used to overcome \n",
    "    # the exception thrown by geolocator \n",
    "    # using geocodertimedout   \n",
    "    try: \n",
    "          \n",
    "        # Specify the user_agent as your \n",
    "        # app name it should not be none \n",
    "        geolocator = Nominatim(user_agent=\"geoapiExercises\") \n",
    "          \n",
    "        return geolocator.geocode(City,timeout=None)\n",
    "\n",
    "    except GeocoderTimedOut: \n",
    "          \n",
    "        return findGeocode(City)\n",
    "        "
   ]
  },
  {
   "cell_type": "code",
   "execution_count": 28,
   "metadata": {
    "id": "b03yPNf67spr"
   },
   "outputs": [],
   "source": [
    "longitude = [] \n",
    "latitude = [] \n",
    "for i in NanImputation_LattiLongi.city:\n",
    "  if findGeocode(i)!=None:\n",
    "    loc=findGeocode(i)\n",
    "    latitude.append(loc.latitude)\n",
    "    longitude.append(loc.longitude)\n",
    "  else:\n",
    "    latitude.append(np.nan)\n",
    "    longitude.append(np.nan)"
   ]
  },
  {
   "cell_type": "code",
   "execution_count": 29,
   "metadata": {
    "id": "7H_InX4A6MBk"
   },
   "outputs": [],
   "source": [
    "NanImputation_LattiLongi['Latitude']=latitude\n",
    "NanImputation_LattiLongi['Longitude']=longitude"
   ]
  },
  {
   "cell_type": "code",
   "execution_count": 30,
   "metadata": {
    "colab": {
     "base_uri": "https://localhost:8080/"
    },
    "id": "gwAONOBb8jye",
    "outputId": "4636ad9f-c197-4489-ddd5-8e5718ccb3f8"
   },
   "outputs": [
    {
     "data": {
      "text/plain": [
       "(1866, 3)"
      ]
     },
     "execution_count": 30,
     "metadata": {},
     "output_type": "execute_result"
    }
   ],
   "source": [
    "NanImputation_LattiLongi.shape"
   ]
  },
  {
   "cell_type": "code",
   "execution_count": 31,
   "metadata": {
    "id": "E6MHjcZX7eda"
   },
   "outputs": [],
   "source": [
    "NanImputation_LattiLongi.dropna(inplace=True)"
   ]
  },
  {
   "cell_type": "code",
   "execution_count": 32,
   "metadata": {
    "id": "aYQo5-i8XYFZ"
   },
   "outputs": [],
   "source": [
    "# imputing the NAN value with the help of df dataframe\n",
    "\n",
    "for index,rows in NanImputation_LattiLongi.iterrows():\n",
    "  city=rows['city']\n",
    "  lati=rows['Latitude']\n",
    "  Longi=rows['Longitude']\n",
    "\n",
    "  df_new.loc[(df_new['LattiMiss']==1) & (df_new['city']==city),'latitude']=lati\n",
    "  df_new.loc[(df_new['LongiMiss']==1) & (df_new['city']==city),'longitude']=Longi"
   ]
  },
  {
   "cell_type": "code",
   "execution_count": 33,
   "metadata": {
    "colab": {
     "base_uri": "https://localhost:8080/"
    },
    "id": "XJ1JnREyYSWp",
    "outputId": "8e640e83-5058-49ce-d493-7303501d8d49"
   },
   "outputs": [
    {
     "data": {
      "text/plain": [
       "(890, 890)"
      ]
     },
     "execution_count": 33,
     "metadata": {},
     "output_type": "execute_result"
    }
   ],
   "source": [
    "df_new['latitude'].isnull().sum() , df_new['longitude'].isnull().sum()"
   ]
  },
  {
   "cell_type": "code",
   "execution_count": null,
   "metadata": {
    "id": "ujItqoOC-eGo"
   },
   "outputs": [],
   "source": []
  },
  {
   "cell_type": "code",
   "execution_count": 34,
   "metadata": {
    "id": "xgxxeUeAhNvI"
   },
   "outputs": [],
   "source": [
    "df_new=df_new[df_new['longitude'].notna()]\n",
    "df_new=df_new[df_new['latitude'].notna()]"
   ]
  },
  {
   "cell_type": "code",
   "execution_count": 35,
   "metadata": {
    "colab": {
     "base_uri": "https://localhost:8080/"
    },
    "id": "Lm5udG39h9RZ",
    "outputId": "44f114ca-692d-42be-e8ad-45839e2947fa"
   },
   "outputs": [
    {
     "data": {
      "text/plain": [
       "(0, 0)"
      ]
     },
     "execution_count": 35,
     "metadata": {},
     "output_type": "execute_result"
    }
   ],
   "source": [
    "df_new['latitude'].isnull().sum() , df_new['longitude'].isnull().sum() "
   ]
  },
  {
   "cell_type": "code",
   "execution_count": 36,
   "metadata": {
    "id": "zY_KdGOOiGVz"
   },
   "outputs": [],
   "source": [
    "df_new.to_csv('Terror.csv',index=False)"
   ]
  },
  {
   "cell_type": "code",
   "execution_count": null,
   "metadata": {
    "id": "a8u2GRNTiPO0"
   },
   "outputs": [],
   "source": []
  },
  {
   "cell_type": "code",
   "execution_count": null,
   "metadata": {
    "id": "9lAUIij0igZW"
   },
   "outputs": [],
   "source": []
  }
 ],
 "metadata": {
  "colab": {
   "collapsed_sections": [],
   "name": "Untitled3.ipynb",
   "provenance": []
  },
  "kernelspec": {
   "display_name": "Python 3",
   "language": "python",
   "name": "python3"
  },
  "language_info": {
   "codemirror_mode": {
    "name": "ipython",
    "version": 3
   },
   "file_extension": ".py",
   "mimetype": "text/x-python",
   "name": "python",
   "nbconvert_exporter": "python",
   "pygments_lexer": "ipython3",
   "version": "3.7.4"
  }
 },
 "nbformat": 4,
 "nbformat_minor": 1
}
